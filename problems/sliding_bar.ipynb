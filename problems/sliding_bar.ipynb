{
 "cells": [
  {
   "cell_type": "markdown",
   "metadata": {},
   "source": [
    "# Sliding Bar"
   ]
  },
  {
   "cell_type": "code",
   "execution_count": 1,
   "metadata": {},
   "outputs": [],
   "source": [
    "import math\n",
    "import matplotlib.pyplot as plt\n",
    "%matplotlib inline"
   ]
  },
  {
   "cell_type": "code",
   "execution_count": 2,
   "metadata": {},
   "outputs": [
    {
     "data": {
      "text/plain": [
       "<matplotlib.text.Text at 0x11ac83128>"
      ]
     },
     "execution_count": 2,
     "metadata": {},
     "output_type": "execute_result"
    },
    {
     "data": {
      "image/png": "[encoded data removed]",
      "text/plain": [
       "<matplotlib.figure.Figure at 0x118695208>"
      ]
     },
     "metadata": {},
     "output_type": "display_data"
    }
   ],
   "source": [
    "n_points = 1000\n",
    "L = 1.0\n",
    "x = []\n",
    "y = []\n",
    "for i in range(n_points):\n",
    "    pos_x = i * L/2.0/(n_points-1)\n",
    "    pos_y = math.sqrt((L/2.0)**2 - pos_x**2) \n",
    "    x.append(pos_x)\n",
    "    y.append(pos_y)\n",
    "\n",
    "\n",
    "plt.figure()\n",
    "plt.plot(x,y)\n",
    "plt.xlim(0.0,0.55)\n",
    "plt.ylim(0.0,0.55)\n",
    "plt.axes().set_aspect('equal')\n",
    "plt.xlabel(\"x (meters)\")\n",
    "plt.ylabel(\"y (meters)\")\n",
    "#plt.grid()\n",
    "#plt.savefig(\"fall.png\")"
   ]
  }
 ],
 "metadata": {
  "kernelspec": {
   "display_name": "Python 3",
   "language": "python",
   "name": "python3"
  },
  "language_info": {
   "codemirror_mode": {
    "name": "ipython",
    "version": 3
   },
   "file_extension": ".py",
   "mimetype": "text/x-python",
   "name": "python",
   "nbconvert_exporter": "python",
   "pygments_lexer": "ipython3",
   "version": "3.6.0"
  }
 },
 "nbformat": 4,
 "nbformat_minor": 2
}
