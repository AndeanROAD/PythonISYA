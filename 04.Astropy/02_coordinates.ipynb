{
 "cells": [
  {
   "cell_type": "markdown",
   "metadata": {},
   "source": [
    "# Time and coordinates"
   ]
  },
  {
   "cell_type": "code",
   "execution_count": 1,
   "metadata": {},
   "outputs": [],
   "source": [
    "import matplotlib \n",
    "matplotlib.use('Agg')\n",
    "\n",
    "import numpy as np\n",
    "import matplotlib.pyplot as plt\n",
    "\n",
    "%matplotlib inline "
   ]
  },
  {
   "cell_type": "code",
   "execution_count": 2,
   "metadata": {},
   "outputs": [],
   "source": [
    "import astropy.units as u\n",
    "from astropy.time import Time\n",
    "from astropy.coordinates import SkyCoord, EarthLocation, AltAz"
   ]
  },
  {
   "cell_type": "markdown",
   "metadata": {},
   "source": [
    "We are going to use astropy to find out whether the Large Magellanic Cloud (LMC) is visible from the a given observatory at a given time and date. \n",
    "\n",
    "In the process we need to manipulate different coordinates and time definitions.\n",
    "\n",
    "Let's start by getting the coordinates of the LMC"
   ]
  },
  {
   "cell_type": "code",
   "execution_count": 3,
   "metadata": {},
   "outputs": [],
   "source": [
    "lmc_center = SkyCoord.from_name('LMC')"
   ]
  },
  {
   "cell_type": "code",
   "execution_count": 4,
   "metadata": {},
   "outputs": [
    {
     "data": {
      "text/plain": [
       "<SkyCoord (ICRS): (ra, dec) in deg\n",
       "    ( 80.89417, -69.75611)>"
      ]
     },
     "execution_count": 4,
     "metadata": {},
     "output_type": "execute_result"
    }
   ],
   "source": [
    "lmc_center"
   ]
  },
  {
   "cell_type": "markdown",
   "metadata": {},
   "source": [
    "`lmc_center` is an instance of a class `astropy.coordinates.sky_coordinate.SkyCoord`"
   ]
  },
  {
   "cell_type": "code",
   "execution_count": 5,
   "metadata": {},
   "outputs": [
    {
     "data": {
      "text/plain": [
       "astropy.coordinates.sky_coordinate.SkyCoord"
      ]
     },
     "execution_count": 5,
     "metadata": {},
     "output_type": "execute_result"
    }
   ],
   "source": [
    "type(lmc_center) "
   ]
  },
  {
   "cell_type": "markdown",
   "metadata": {},
   "source": [
    "The full list of attributes and methods is the following"
   ]
  },
  {
   "cell_type": "code",
   "execution_count": 6,
   "metadata": {},
   "outputs": [
    {
     "data": {
      "text/plain": [
       "['T',\n",
       " '__abstractmethods__',\n",
       " '__bool__',\n",
       " '__class__',\n",
       " '__delattr__',\n",
       " '__dict__',\n",
       " '__dir__',\n",
       " '__doc__',\n",
       " '__eq__',\n",
       " '__format__',\n",
       " '__ge__',\n",
       " '__getattr__',\n",
       " '__getattribute__',\n",
       " '__getitem__',\n",
       " '__gt__',\n",
       " '__hash__',\n",
       " '__init__',\n",
       " '__init_subclass__',\n",
       " '__iter__',\n",
       " '__le__',\n",
       " '__len__',\n",
       " '__lt__',\n",
       " '__module__',\n",
       " '__ne__',\n",
       " '__new__',\n",
       " '__reduce__',\n",
       " '__reduce_ex__',\n",
       " '__repr__',\n",
       " '__setattr__',\n",
       " '__sizeof__',\n",
       " '__str__',\n",
       " '__subclasshook__',\n",
       " '__weakref__',\n",
       " '_abc_cache',\n",
       " '_abc_negative_cache',\n",
       " '_abc_negative_cache_version',\n",
       " '_abc_registry',\n",
       " '_apply',\n",
       " '_extra_frameattr_names',\n",
       " '_parse_inputs',\n",
       " '_sky_coord_frame',\n",
       " 'altaz',\n",
       " 'apply_space_motion',\n",
       " 'barycentrictrueecliptic',\n",
       " 'cache',\n",
       " 'cartesian',\n",
       " 'cirs',\n",
       " 'copy',\n",
       " 'data',\n",
       " 'dec',\n",
       " 'default_differential',\n",
       " 'default_representation',\n",
       " 'diagonal',\n",
       " 'differential_type',\n",
       " 'distance',\n",
       " 'equinox',\n",
       " 'fk4',\n",
       " 'fk4noeterms',\n",
       " 'fk5',\n",
       " 'flatten',\n",
       " 'frame',\n",
       " 'frame_attributes',\n",
       " 'frame_specific_representation_info',\n",
       " 'from_name',\n",
       " 'from_pixel',\n",
       " 'galactic',\n",
       " 'galacticlsr',\n",
       " 'galactocentric',\n",
       " 'galcen_coord',\n",
       " 'galcen_distance',\n",
       " 'galcen_v_sun',\n",
       " 'gcrs',\n",
       " 'geocentrictrueecliptic',\n",
       " 'get_constellation',\n",
       " 'get_frame_attr_names',\n",
       " 'get_representation_cls',\n",
       " 'get_representation_component_names',\n",
       " 'get_representation_component_units',\n",
       " 'guess_from_table',\n",
       " 'has_data',\n",
       " 'hcrs',\n",
       " 'heliocentrictrueecliptic',\n",
       " 'icrs',\n",
       " 'info',\n",
       " 'is_equivalent_frame',\n",
       " 'is_frame_attr_default',\n",
       " 'is_transformable_to',\n",
       " 'isscalar',\n",
       " 'itrs',\n",
       " 'location',\n",
       " 'lsr',\n",
       " 'match_to_catalog_3d',\n",
       " 'match_to_catalog_sky',\n",
       " 'name',\n",
       " 'ndim',\n",
       " 'obsgeoloc',\n",
       " 'obsgeovel',\n",
       " 'obstime',\n",
       " 'obswl',\n",
       " 'pm_dec',\n",
       " 'pm_ra_cosdec',\n",
       " 'position_angle',\n",
       " 'precessedgeocentric',\n",
       " 'pressure',\n",
       " 'proper_motion',\n",
       " 'ra',\n",
       " 'radial_velocity',\n",
       " 'radial_velocity_correction',\n",
       " 'ravel',\n",
       " 'realize_frame',\n",
       " 'relative_humidity',\n",
       " 'replicate',\n",
       " 'replicate_without_data',\n",
       " 'represent_as',\n",
       " 'representation',\n",
       " 'representation_component_names',\n",
       " 'representation_component_units',\n",
       " 'representation_info',\n",
       " 'representation_type',\n",
       " 'reshape',\n",
       " 'roll',\n",
       " 'search_around_3d',\n",
       " 'search_around_sky',\n",
       " 'separation',\n",
       " 'separation_3d',\n",
       " 'set_representation_cls',\n",
       " 'shape',\n",
       " 'size',\n",
       " 'skyoffset_frame',\n",
       " 'spherical',\n",
       " 'spherical_offsets_to',\n",
       " 'sphericalcoslat',\n",
       " 'squeeze',\n",
       " 'supergalactic',\n",
       " 'swapaxes',\n",
       " 'take',\n",
       " 'temperature',\n",
       " 'to_pixel',\n",
       " 'to_string',\n",
       " 'transform_to',\n",
       " 'transpose',\n",
       " 'v_bary',\n",
       " 'velocity',\n",
       " 'z_sun']"
      ]
     },
     "execution_count": 6,
     "metadata": {},
     "output_type": "execute_result"
    }
   ],
   "source": [
    "dir(lmc_center)"
   ]
  },
  {
   "cell_type": "code",
   "execution_count": 7,
   "metadata": {},
   "outputs": [
    {
     "name": "stdout",
     "output_type": "stream",
     "text": [
      "80d53m39.012s -69d45m21.996s\n",
      "5.392944666666668 -69d45m21.996s\n"
     ]
    }
   ],
   "source": [
    "# To get the ra and dec we print the corresponding attribute\n",
    "print(lmc_center.ra, lmc_center.dec) # units of degrees for RA\n",
    "print(lmc_center.ra.hour, lmc_center.dec) # units of hours for RA"
   ]
  },
  {
   "cell_type": "markdown",
   "metadata": {},
   "source": [
    "An optional way to initialize an object belonging to the class SkyCoord would be\n",
    "\n",
    "```python\n",
    "option = SkyCoord('0h39m00', '0d53m1s', frame='icrs')\n",
    "```"
   ]
  },
  {
   "cell_type": "markdown",
   "metadata": {},
   "source": [
    "To find out whether the LMC will be visible from the observatory, we have to define \n",
    "the observatory location and the time of the year.\n",
    "\n",
    "Let's assume that we are going to observe from SALT (`Southern African Large Telescope`)."
   ]
  },
  {
   "cell_type": "code",
   "execution_count": 8,
   "metadata": {},
   "outputs": [],
   "source": [
    "SALT = EarthLocation.of_site(\"Southern African Large Telescope\")"
   ]
  },
  {
   "cell_type": "code",
   "execution_count": 9,
   "metadata": {},
   "outputs": [
    {
     "data": {
      "text/plain": [
       "(<Latitude -32.375823 deg>,\n",
       " <Longitude 20.810807999999998 deg>,\n",
       " <Quantity 1798.0000000004793 m>)"
      ]
     },
     "execution_count": 9,
     "metadata": {},
     "output_type": "execute_result"
    }
   ],
   "source": [
    "SALT.lat, SALT.lon, SALT.height"
   ]
  },
  {
   "cell_type": "markdown",
   "metadata": {},
   "source": [
    "You can get a list of observatory locations with:\n",
    "\n",
    "```python\n",
    "EarthLocation.get_site_names()\n",
    "```\n",
    "\n",
    "If your observatory is not listed in `astropy` you can initialize its location using\n",
    "\n",
    "```python\n",
    "my_observatory = EarthLocation(lat=4.0*u.deg, lon=-75.0*u.deg, height=4000*u.m)\n",
    "```"
   ]
  },
  {
   "cell_type": "markdown",
   "metadata": {},
   "source": [
    "Now let's fix the observation date and time. We are going to use a different class for that"
   ]
  },
  {
   "cell_type": "code",
   "execution_count": 10,
   "metadata": {},
   "outputs": [],
   "source": [
    "time = Time('2017-11-11 21:00:00') # That's in Universal Time Coordinated!"
   ]
  },
  {
   "cell_type": "code",
   "execution_count": 11,
   "metadata": {},
   "outputs": [
    {
     "data": {
      "text/plain": [
       "<Time object: scale='utc' format='iso' value=2017-11-11 21:00:00.000>"
      ]
     },
     "execution_count": 11,
     "metadata": {},
     "output_type": "execute_result"
    }
   ],
   "source": [
    "time"
   ]
  },
  {
   "cell_type": "markdown",
   "metadata": {},
   "source": [
    "We now have all the elements to compute the Altitude + Azimuth coordinates of the LMC at SALT location on November 11th 2017 at 9PM UTC."
   ]
  },
  {
   "cell_type": "code",
   "execution_count": 12,
   "metadata": {},
   "outputs": [],
   "source": [
    "lmg_altaz = lmc_center.transform_to(AltAz(obstime=time,location=SALT))"
   ]
  },
  {
   "cell_type": "code",
   "execution_count": 13,
   "metadata": {},
   "outputs": [
    {
     "name": "stdout",
     "output_type": "stream",
     "text": [
      "157d43m47.7172s 42d26m14.9595s\n"
     ]
    }
   ],
   "source": [
    "print(lmg_altaz.az, lmg_altaz.alt) "
   ]
  },
  {
   "cell_type": "markdown",
   "metadata": {},
   "source": [
    "With 42 degrees altitude it looks like the LMC was observable with SALT on November 11th 2017 at 9PM UTC!"
   ]
  },
  {
   "cell_type": "markdown",
   "metadata": {},
   "source": [
    "# Exercise 2.1\n",
    "\n",
    "Plot the altitude of M31 (the Andromeda galaxy) at `Las Campanas Observatory` on March 10th 2019 between 6PM and 6AM **LOCAL TIME**.\n",
    "\n",
    "**Hint**  The following *Python* code is valid to get the `time`  30 minutes later than a given time and date.\n",
    "\n",
    "```python\n",
    "time = Time('2019-03-10 18:00:00') + 0.5*u.hour\n",
    "```\n",
    "\n",
    "Will be M31 observable that night at Las Campanas?"
   ]
  },
  {
   "cell_type": "code",
   "execution_count": null,
   "metadata": {},
   "outputs": [],
   "source": []
  },
  {
   "cell_type": "code",
   "execution_count": null,
   "metadata": {},
   "outputs": [],
   "source": []
  },
  {
   "cell_type": "code",
   "execution_count": null,
   "metadata": {},
   "outputs": [],
   "source": []
  },
  {
   "cell_type": "code",
   "execution_count": null,
   "metadata": {},
   "outputs": [],
   "source": []
  }
 ],
 "metadata": {
  "kernelspec": {
   "display_name": "Python 3",
   "language": "python",
   "name": "python3"
  },
  "language_info": {
   "codemirror_mode": {
    "name": "ipython",
    "version": 3
   },
   "file_extension": ".py",
   "mimetype": "text/x-python",
   "name": "python",
   "nbconvert_exporter": "python",
   "pygments_lexer": "ipython3",
   "version": "3.6.0"
  }
 },
 "nbformat": 4,
 "nbformat_minor": 2
}
