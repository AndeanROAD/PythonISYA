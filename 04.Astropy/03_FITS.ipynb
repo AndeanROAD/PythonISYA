{
 "cells": [
  {
   "cell_type": "markdown",
   "metadata": {},
   "source": [
    "# First contact with FITS files"
   ]
  },
  {
   "cell_type": "code",
   "execution_count": null,
   "metadata": {},
   "outputs": [],
   "source": [
    "import matplotlib \n",
    "matplotlib.use('Agg')\n",
    "\n",
    "import numpy as np\n",
    "import matplotlib.pyplot as plt\n",
    "\n",
    "%matplotlib inline "
   ]
  },
  {
   "cell_type": "markdown",
   "metadata": {},
   "source": [
    "\n",
    "Flexible Image Transport System (FITS) is an standard file format used to image and data storage in astronomy.\n",
    "\n",
    "If you work in astronomy you will have to manipulate FITS files at some point in your career.\n",
    "Fortunately, you can also use `astropy` to manipulate those files. \n",
    "\n",
    "Here we will focus on showing how to read an image from a FITS file.  We follow the basic FITS tutorial provided [in the astropy tutorial](http://docs.astropy.org/en/stable/generated/examples/io/plot_fits-image.html#sphx-glr-generated-examples-io-plot-fits-image-py).\n",
    "\n",
    "We won't cover how to read data tables or how to write data to FITS files."
   ]
  },
  {
   "cell_type": "markdown",
   "metadata": {},
   "source": [
    "First we download a sample fits file"
   ]
  },
  {
   "cell_type": "code",
   "execution_count": null,
   "metadata": {},
   "outputs": [],
   "source": [
    "from astropy.utils.data import get_pkg_data_filename\n",
    "from astropy.io import fits\n",
    "\n",
    "image_file = get_pkg_data_filename('tutorials/FITS-images/HorseHead.fits')"
   ]
  },
  {
   "cell_type": "markdown",
   "metadata": {},
   "source": [
    "We will printo the information in the FITS file\n",
    "\n",
    "- The first column is an integer indicating the **Header Data Unit (HDU)**. \n",
    "HDU is the highest level of data storage. Inside you usually find tables or images.\n",
    "- The second column is the name of that HDU.\n",
    "- The third column is the type\n",
    "- The fifth column are the dimensions.\n",
    "- The sixth column is the data type"
   ]
  },
  {
   "cell_type": "code",
   "execution_count": null,
   "metadata": {},
   "outputs": [],
   "source": [
    "fits.info(image_file)"
   ]
  },
  {
   "cell_type": "markdown",
   "metadata": {},
   "source": [
    "In this example the HDU 0 is name of the HDU. It has two dimensions: (891,893) and stores integer numbers. This is an image. We can extract it as follows"
   ]
  },
  {
   "cell_type": "code",
   "execution_count": null,
   "metadata": {},
   "outputs": [],
   "source": [
    "image_data = fits.getdata(image_file, ext=0)"
   ]
  },
  {
   "cell_type": "code",
   "execution_count": null,
   "metadata": {},
   "outputs": [],
   "source": [
    "type(image_data) # this is a numpy array"
   ]
  },
  {
   "cell_type": "code",
   "execution_count": null,
   "metadata": {},
   "outputs": [],
   "source": [
    "plt.figure(figsize=(10,10))\n",
    "plt.imshow(image_data)\n",
    "plt.colorbar()"
   ]
  },
  {
   "cell_type": "markdown",
   "metadata": {},
   "source": [
    "you can use slicing to plot image subsets"
   ]
  },
  {
   "cell_type": "code",
   "execution_count": null,
   "metadata": {},
   "outputs": [],
   "source": [
    "plt.imshow(image_data[:200,700:])\n",
    "plt.colorbar()"
   ]
  },
  {
   "cell_type": "code",
   "execution_count": null,
   "metadata": {},
   "outputs": [],
   "source": [
    "plt.figure()\n",
    "plt.imshow(image_data[:200,500:])\n",
    "plt.colorbar()\n",
    "\n",
    "# You can plot other symbols on top of the image\n",
    "x = [297]\n",
    "y = [130]\n",
    "plt.scatter(x,y, s=400, marker='o', facecolors='none', edgecolors='r')"
   ]
  },
  {
   "cell_type": "markdown",
   "metadata": {},
   "source": [
    "# Exercise 3.1\n",
    "\n",
    "Using slicing plot the region of the image with the head of the horse."
   ]
  },
  {
   "cell_type": "code",
   "execution_count": null,
   "metadata": {},
   "outputs": [],
   "source": []
  },
  {
   "cell_type": "markdown",
   "metadata": {},
   "source": [
    "# Exercise 3.2\n",
    "\n",
    "Plot the full image and overplot a red circle around the brightest pixel.\n",
    "Of course, you have to find the coordinates of the brightest star using python and **not by visual inspection!**"
   ]
  },
  {
   "cell_type": "code",
   "execution_count": null,
   "metadata": {},
   "outputs": [],
   "source": []
  }
 ],
 "metadata": {
  "kernelspec": {
   "display_name": "Python 3",
   "language": "python",
   "name": "python3"
  },
  "language_info": {
   "codemirror_mode": {
    "name": "ipython",
    "version": 3
   },
   "file_extension": ".py",
   "mimetype": "text/x-python",
   "name": "python",
   "nbconvert_exporter": "python",
   "pygments_lexer": "ipython3",
   "version": "3.6.0"
  }
 },
 "nbformat": 4,
 "nbformat_minor": 2
}
