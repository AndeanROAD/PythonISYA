{
 "cells": [
  {
   "cell_type": "markdown",
   "metadata": {},
   "source": [
    "# Iteration\n",
    "\n",
    "One of the most basic operations in programming is iterating over a list of elements to perform some kind of operation.\n",
    "\n",
    "In python we use the `for` statement to iterate. It is easier to use than the same statement in C, C++ or FORTRAN becuase instead of running over a integer index it takes as an input any iterable object and runs over it.\n",
    "\n",
    "Let's see some examples"
   ]
  },
  {
   "cell_type": "markdown",
   "metadata": {},
   "source": [
    "## Iterating over lists\n",
    "\n",
    "Lists are ordered. Iteration is done in the same order."
   ]
  },
  {
   "cell_type": "code",
   "execution_count": 17,
   "metadata": {},
   "outputs": [
    {
     "name": "stdout",
     "output_type": "stream",
     "text": [
      "4\n",
      "5\n",
      "6\n",
      "8\n",
      "10\n"
     ]
    }
   ],
   "source": [
    "a = [4,5,6,8,10]\n",
    "for i in a:\n",
    "    print(i)"
   ]
  },
  {
   "cell_type": "code",
   "execution_count": 30,
   "metadata": {},
   "outputs": [
    {
     "name": "stdout",
     "output_type": "stream",
     "text": [
      "Many years later, as he faced the firing squad, Colonel Aureliano Buendía was to remember that dist ant afternoon when his father took him to discover ice. At that time Macondo was a village of twenty adobe houses,built on the bank of a river of clear water that ran along a bed of polished stones, which were white and enormous,like prehistoric eggs.\n"
     ]
    }
   ],
   "source": [
    "# A fragment of `One Hundred Years of Solitude`\n",
    "GGM = 'Many years later, as he faced the firing squad, \\\n",
    "Colonel Aureliano Buendía was to remember that dist \\\n",
    "ant afternoon when his father took him to discover ice. \\\n",
    "At that time Macondo was a village of twenty adobe houses,\\\n",
    "built on the bank of a river of clear water that ran along \\\n",
    "a bed of polished stones, which were white and enormous,\\\n",
    "like prehistoric eggs.'\n",
    "print(GGM)"
   ]
  },
  {
   "cell_type": "code",
   "execution_count": 34,
   "metadata": {},
   "outputs": [
    {
     "name": "stdout",
     "output_type": "stream",
     "text": [
      "['Many', 'years', 'later,', 'as', 'he', 'faced', 'the', 'firing', 'squad,', 'Colonel', 'Aureliano', 'Buendía', 'was', 'to', 'remember', 'that', 'dist', 'ant', 'afternoon', 'when', 'his', 'father', 'took', 'him', 'to', 'discover', 'ice.', 'At', 'that', 'time', 'Macondo', 'was', 'a', 'village', 'of', 'twenty', 'adobe', 'houses,built', 'on', 'the', 'bank', 'of', 'a', 'river', 'of', 'clear', 'water', 'that', 'ran', 'along', 'a', 'bed', 'of', 'polished', 'stones,', 'which', 'were', 'white', 'and', 'enormous,like', 'prehistoric', 'eggs.']\n",
      "Many\n",
      "years\n",
      "later,\n",
      "as\n",
      "he\n",
      "faced\n",
      "the\n",
      "firing\n",
      "squad,\n",
      "Colonel\n",
      "Aureliano\n",
      "Buendía\n",
      "was\n",
      "to\n",
      "remember\n",
      "that\n",
      "dist\n",
      "ant\n",
      "afternoon\n",
      "when\n",
      "his\n",
      "father\n",
      "took\n",
      "him\n",
      "to\n",
      "discover\n",
      "ice.\n",
      "At\n",
      "that\n",
      "time\n",
      "Macondo\n",
      "was\n",
      "a\n",
      "village\n",
      "of\n",
      "twenty\n",
      "adobe\n",
      "houses,built\n",
      "on\n",
      "the\n",
      "bank\n",
      "of\n",
      "a\n",
      "river\n",
      "of\n",
      "clear\n",
      "water\n",
      "that\n",
      "ran\n",
      "along\n",
      "a\n",
      "bed\n",
      "of\n",
      "polished\n",
      "stones,\n",
      "which\n",
      "were\n",
      "white\n",
      "and\n",
      "enormous,like\n",
      "prehistoric\n",
      "eggs.\n"
     ]
    }
   ],
   "source": [
    "dot = GGM.split() \n",
    "print(dot)\n",
    "for i in dot:\n",
    "    print(i)"
   ]
  },
  {
   "cell_type": "markdown",
   "metadata": {},
   "source": [
    "## Iterating over dictionaries\n",
    "Dictionaries are not ordered. Iterating over them does not have to produce an order sequence."
   ]
  },
  {
   "cell_type": "code",
   "execution_count": 44,
   "metadata": {},
   "outputs": [
    {
     "name": "stdout",
     "output_type": "stream",
     "text": [
      "{1: 'one', 2: 'two', 3: 'three', 4: 'four', 5: 'five'}\n"
     ]
    }
   ],
   "source": [
    "a = {} # empty dictionary\n",
    "a[1] = 'one'\n",
    "a[2] = 'two'\n",
    "a[3] = 'three'\n",
    "a[4] = 'four'\n",
    "a[5] = 'five'\n",
    "print(a)"
   ]
  },
  {
   "cell_type": "code",
   "execution_count": 45,
   "metadata": {},
   "outputs": [
    {
     "name": "stdout",
     "output_type": "stream",
     "text": [
      "one\n",
      "two\n",
      "three\n",
      "four\n",
      "five\n"
     ]
    }
   ],
   "source": [
    "for k in a.keys():\n",
    "    print(a[k])"
   ]
  },
  {
   "cell_type": "code",
   "execution_count": 46,
   "metadata": {},
   "outputs": [
    {
     "name": "stdout",
     "output_type": "stream",
     "text": [
      "one\n",
      "two\n",
      "three\n",
      "four\n",
      "five\n"
     ]
    }
   ],
   "source": [
    "for v in a.values():\n",
    "    print(v)"
   ]
  },
  {
   "cell_type": "code",
   "execution_count": null,
   "metadata": {},
   "outputs": [],
   "source": []
  }
 ],
 "metadata": {
  "kernelspec": {
   "display_name": "Python 3",
   "language": "python",
   "name": "python3"
  },
  "language_info": {
   "codemirror_mode": {
    "name": "ipython",
    "version": 3
   },
   "file_extension": ".py",
   "mimetype": "text/x-python",
   "name": "python",
   "nbconvert_exporter": "python",
   "pygments_lexer": "ipython3",
   "version": "3.6.0"
  }
 },
 "nbformat": 4,
 "nbformat_minor": 2
}
